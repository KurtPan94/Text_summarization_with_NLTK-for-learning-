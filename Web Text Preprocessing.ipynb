{
 "cells": [
  {
   "cell_type": "markdown",
   "metadata": {},
   "source": [
    "# Summary\n",
    "> These are some basic tricks to preprocessing text\n",
    ".Mainly learning from [Text summarization with NLTK](http://glowingpython.blogspot.sg/2014/09/text-summarization-with-nltk.html)\n",
    "\n",
    "> Changes for 2to3 from the origin"
   ]
  },
  {
   "cell_type": "markdown",
   "metadata": {},
   "source": [
    "### Stopwords\n",
    "This is how to process `stopwords` into a set."
   ]
  },
  {
   "cell_type": "code",
   "execution_count": 1,
   "metadata": {
    "collapsed": false,
    "scrolled": false
   },
   "outputs": [
    {
     "name": "stderr",
     "output_type": "stream",
     "text": [
      "/home/kurt/anaconda3/lib/python3.5/site-packages/sklearn/utils/fixes.py:64: DeprecationWarning: inspect.getargspec() is deprecated, use inspect.signature() instead\n",
      "  if 'order' in inspect.getargspec(np.copy)[0]:\n"
     ]
    }
   ],
   "source": [
    "from nltk.corpus import stopwords\n",
    "from string import punctuation"
   ]
  },
  {
   "cell_type": "code",
   "execution_count": 3,
   "metadata": {
    "collapsed": false
   },
   "outputs": [
    {
     "name": "stdout",
     "output_type": "stream",
     "text": [
      "['i', 'me', 'my', 'myself', 'we', 'our', 'ours', 'ourselves', 'you', 'your', 'yours', 'yourself', 'yourselves', 'he', 'him', 'his', 'himself', 'she', 'her', 'hers', 'herself', 'it', 'its', 'itself', 'they', 'them', 'their', 'theirs', 'themselves', 'what', 'which', 'who', 'whom', 'this', 'that', 'these', 'those', 'am', 'is', 'are', 'was', 'were', 'be', 'been', 'being', 'have', 'has', 'had', 'having', 'do', 'does', 'did', 'doing', 'a', 'an', 'the', 'and', 'but', 'if', 'or', 'because', 'as', 'until', 'while', 'of', 'at', 'by', 'for', 'with', 'about', 'against', 'between', 'into', 'through', 'during', 'before', 'after', 'above', 'below', 'to', 'from', 'up', 'down', 'in', 'out', 'on', 'off', 'over', 'under', 'again', 'further', 'then', 'once', 'here', 'there', 'when', 'where', 'why', 'how', 'all', 'any', 'both', 'each', 'few', 'more', 'most', 'other', 'some', 'such', 'no', 'nor', 'not', 'only', 'own', 'same', 'so', 'than', 'too', 'very', 's', 't', 'can', 'will', 'just', 'don', 'should', 'now']\n"
     ]
    }
   ],
   "source": [
    "print(stopwords.words('english'),)"
   ]
  },
  {
   "cell_type": "code",
   "execution_count": 5,
   "metadata": {
    "collapsed": false
   },
   "outputs": [
    {
     "name": "stdout",
     "output_type": "stream",
     "text": [
      "['!', '\"', '#', '$', '%', '&', \"'\", '(', ')', '*', '+', ',', '-', '.', '/', ':', ';', '<', '=', '>', '?', '@', '[', '\\\\', ']', '^', '_', '`', '{', '|', '}', '~']\n"
     ]
    }
   ],
   "source": [
    "print(list(punctuation),)"
   ]
  },
  {
   "cell_type": "code",
   "execution_count": 6,
   "metadata": {
    "collapsed": false
   },
   "outputs": [
    {
     "name": "stdout",
     "output_type": "stream",
     "text": [
      "{'your', 'an', 'with', '$', 'then', 'in', 'up', 'if', 'does', 'are', '\"', 'only', 'not', 'yours', '_', 'whom', 'these', 'herself', 'so', 'above', 'don', 'do', 'few', 'himself', 'i', 'any', '@', 'no', 'again', 'than', 'most', 'to', '~', 'at', '|', 'nor', 'own', 'how', 'for', 'this', 'them', 'of', 'now', 'by', '\\\\', 'should', 'she', 'have', 'into', 'on', 'when', 'being', 'between', '^', 'down', 'yourselves', '*', 'its', 'until', 'here', 'the', 'too', ',', 'having', 'where', 'you', '?', '(', 'which', '}', 'can', 'been', '<', 'because', 'hers', 'has', 'did', 'other', 'just', ':', 'he', 'after', 't', 'will', 'ours', 'those', ')', '/', '-', 'while', '&', 'during', 'they', 'and', 'some', 'all', 'were', 'had', 'below', 'him', '{', 'yourself', 'both', 'further', ']', 'myself', '%', '`', 'his', \"'\", 'through', 'out', '!', 'what', 'such', 'our', 'that', 'off', 's', 'theirs', 'more', 'her', 'was', 'a', 'once', '>', 'same', 'as', 'against', ';', 'itself', 'it', 'their', 'each', 'am', 'before', 'ourselves', 'or', 'but', 'is', 'doing', 'from', 'who', 'very', 'why', 'there', 'about', '.', 'my', 'themselves', '+', '=', 'we', 'me', 'be', 'over', 'under', '[', '#'}\n"
     ]
    }
   ],
   "source": [
    "_stopwords = set(stopwords.words('english') + list(punctuation))\n",
    "print(_stopwords,)"
   ]
  },
  {
   "cell_type": "markdown",
   "metadata": {},
   "source": [
    "### Extract from URL & XML Parsing"
   ]
  },
  {
   "cell_type": "code",
   "execution_count": 7,
   "metadata": {
    "collapsed": true
   },
   "outputs": [],
   "source": [
    "from urllib import request\n",
    "from bs4 import BeautifulSoup"
   ]
  },
  {
   "cell_type": "code",
   "execution_count": 8,
   "metadata": {
    "collapsed": true
   },
   "outputs": [],
   "source": [
    "feed_xml = request.urlopen('http://feeds.bbci.co.uk/news/rss.xml').read()\n",
    "feed = BeautifulSoup(feed_xml.decode('utf8'),'lxml')"
   ]
  },
  {
   "cell_type": "code",
   "execution_count": 9,
   "metadata": {
    "collapsed": false
   },
   "outputs": [
    {
     "data": {
      "text/plain": [
       "<function __main__.<lambda>>"
      ]
     },
     "execution_count": 9,
     "metadata": {},
     "output_type": "execute_result"
    }
   ],
   "source": [
    "lambda p: p.text"
   ]
  },
  {
   "cell_type": "code",
   "execution_count": 13,
   "metadata": {
    "collapsed": false,
    "scrolled": true
   },
   "outputs": [
    {
     "data": {
      "text/plain": [
       "'http://www.bbc.co.uk/news/uk-35188146'"
      ]
     },
     "execution_count": 13,
     "metadata": {},
     "output_type": "execute_result"
    }
   ],
   "source": [
    "feed.find_all('guid')[0].text"
   ]
  },
  {
   "cell_type": "code",
   "execution_count": 17,
   "metadata": {
    "collapsed": false
   },
   "outputs": [
    {
     "data": {
      "text/plain": [
       "['http://www.bbc.co.uk/news/uk-35188146',\n",
       " 'http://www.bbc.co.uk/news/uk-35187966',\n",
       " 'http://www.bbc.co.uk/news/world-asia-35188135',\n",
       " 'http://www.bbc.co.uk/news/world-middle-east-35188479',\n",
       " 'http://www.bbc.co.uk/news/uk-england-birmingham-35188877']"
      ]
     },
     "execution_count": 17,
     "metadata": {},
     "output_type": "execute_result"
    }
   ],
   "source": [
    "to_summarize = list(map(lambda p: p.text, feed.find_all('guid')))\n",
    "to_summarize[:5]"
   ]
  },
  {
   "cell_type": "code",
   "execution_count": null,
   "metadata": {
    "collapsed": true
   },
   "outputs": [],
   "source": [
    "url  = 'http://www.bbc.co.uk/news/uk-35188146'\n",
    "page = request.urlopen(url).read().decode('utf8')\n",
    "soup = BeautifulSoup(page,'lxml')\n",
    "text = ' '.join(list(map(lambda p: p.text, soup.find_all('p'))))\n",
    "soup.title.text, text"
   ]
  },
  {
   "cell_type": "markdown",
   "metadata": {},
   "source": [
    "text is the input to analysis"
   ]
  },
  {
   "cell_type": "markdown",
   "metadata": {},
   "source": [
    "### Tokenize"
   ]
  },
  {
   "cell_type": "code",
   "execution_count": 21,
   "metadata": {
    "collapsed": true
   },
   "outputs": [],
   "source": [
    "from nltk.tokenize import sent_tokenize,word_tokenize"
   ]
  },
  {
   "cell_type": "code",
   "execution_count": 24,
   "metadata": {
    "collapsed": false
   },
   "outputs": [],
   "source": [
    "sents = sent_tokenize(text)"
   ]
  },
  {
   "cell_type": "code",
   "execution_count": 26,
   "metadata": {
    "collapsed": false
   },
   "outputs": [],
   "source": [
    "word_sent = [word_tokenize(s.lower()) for s in sents]"
   ]
  },
  {
   "cell_type": "markdown",
   "metadata": {},
   "source": [
    "### Computing Frequencies"
   ]
  },
  {
   "cell_type": "code",
   "execution_count": 27,
   "metadata": {
    "collapsed": true
   },
   "outputs": [],
   "source": [
    "from collections import defaultdict\n",
    "freq = defaultdict(int)"
   ]
  },
  {
   "cell_type": "code",
   "execution_count": 28,
   "metadata": {
    "collapsed": true
   },
   "outputs": [],
   "source": [
    "for s in word_sent:\n",
    "      for word in s:\n",
    "        if word not in _stopwords:\n",
    "          freq[word] += 1"
   ]
  },
  {
   "cell_type": "markdown",
   "metadata": {},
   "source": [
    "#### frequencies normalization and fitering"
   ]
  },
  {
   "cell_type": "code",
   "execution_count": 34,
   "metadata": {
    "collapsed": false
   },
   "outputs": [],
   "source": [
    "m = float(max(freq.values()))\n",
    "_max_cut = 0.9\n",
    "_min_cut = 0.1"
   ]
  },
  {
   "cell_type": "code",
   "execution_count": 37,
   "metadata": {
    "collapsed": false
   },
   "outputs": [],
   "source": [
    "for w in list(freq):\n",
    "      freq[w] = freq[w]/m\n",
    "      if freq[w] >= _max_cut or freq[w] <= _min_cut:\n",
    "        del freq[w]"
   ]
  },
  {
   "cell_type": "code",
   "execution_count": 39,
   "metadata": {
    "collapsed": false
   },
   "outputs": [
    {
     "name": "stdout",
     "output_type": "stream",
     "text": [
      "defaultdict(<class 'int'>, {'areas': 0.25, 'also': 0.25, 'homes': 0.3125, 'published': 0.125, 'issued': 0.1875, 'northern': 0.4375, 'leeds': 0.125, 'journalist': 0.125, 'desmond': 0.125, 'died': 0.125, 'please': 0.25, \"'s\": 0.3125, 'government': 0.125, 'rivers': 0.125, 'scotland': 0.125, 'england': 0.5625, 'says': 0.125, 'rain': 0.4375, 'programme': 0.1875, 'contact': 0.25, 'severe': 0.125, 'next': 0.25, '200': 0.125, 'extremes': 0.1875, 'greater': 0.125, 'remain': 0.125, 'unprecedented': 0.125, 'river': 0.3125, 'needed': 0.1875, 'bbc': 0.1875, 'defences': 0.375, 'wales': 0.25, 'better': 0.125, 'need': 0.125, 'warnings': 0.5625, 'brings': 0.125, 'environment': 0.375, 'rethink': 0.1875, '``': 0.625, '2015': 0.1875, 'heavy': 0.125, 'across': 0.25, 'wednesday': 0.125, 'place': 0.1875, 'hundreds': 0.125, 'terms': 0.125, 'think': 0.125, 'deployed': 0.125, 'uk': 0.3125, 'conditions': 0.125, 'hit': 0.125, 'torrential': 0.125, 'questions': 0.125, 'people': 0.375, 'give': 0.125, 'cumbria': 0.1875, 'number': 0.125, 'information': 0.1875, 'get': 0.1875, 'places': 0.125, 'yorkshire': 0.1875, 'said': 0.4375, 'complete': 0.1875, 'agency': 0.4375, 'david': 0.125, 'past': 0.125, 'pictures': 0.1875, 'council': 0.125, 'communities': 0.125, 'mr': 0.125, 'flooding': 0.625, 'emergency': 0.125, 'parts': 0.1875, 'soldiers': 0.125, 'york': 0.3125, 'month': 0.1875, 'affected': 0.125, 'major': 0.125, \"''\": 0.625, 'december': 0.375, 'rooke': 0.1875, 'would': 0.25, 'following': 0.25, 'leave': 0.125, 'alerts': 0.125, 'lancashire': 0.1875, 'us': 0.125, 'time': 0.1875, 'take': 0.1875, 'levels': 0.125, 'weather': 0.125, 'middle': 0.125, 'businesses': 0.125, 'manchester': 0.125, 'warning': 0.125, 'storm': 0.1875, 'access': 0.125, 'year': 0.125, 'hits': 0.125, 'systems': 0.125, 'needs': 0.125, '12': 0.125})\n"
     ]
    }
   ],
   "source": [
    "print(freq,)"
   ]
  }
 ],
 "metadata": {
  "kernelspec": {
   "display_name": "Python 3",
   "language": "python",
   "name": "python3"
  },
  "language_info": {
   "codemirror_mode": {
    "name": "ipython",
    "version": 3
   },
   "file_extension": ".py",
   "mimetype": "text/x-python",
   "name": "python",
   "nbconvert_exporter": "python",
   "pygments_lexer": "ipython3",
   "version": "3.5.1"
  }
 },
 "nbformat": 4,
 "nbformat_minor": 0
}
